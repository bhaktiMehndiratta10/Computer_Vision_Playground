{
 "cells": [
  {
   "cell_type": "markdown",
   "id": "291481a2-ba00-491b-a452-afe70a2f52d8",
   "metadata": {},
   "source": [
    "# BITWISE OPERATORS ON BINARY IMAGES\n",
    "\n",
    "BINARY IMAGES - \n",
    "Images that have only 2 colour channels \n",
    "like a black {represented by 0} and white {represented by 1} image\n",
    "\n",
    "BITWISE OPERATORS -\n",
    "1. AND: Returns 1 when both bits are 1; otherwise, returns 0.\n",
    "   FUNCTION USED : cv2.bitwise_and\n",
    "   \n",
    "2. OR: Returns 1 if at least one of the bits is 1; otherwise, returns 0.\n",
    "    FUNCTION USED : cv2.bitwise_or\n",
    "\n",
    "3. NOT: Inverts the bit; 0 becomes 1, and 1 becomes 0.\n",
    "    FUNCTION USED : cv2.bitwise_not\n",
    "\n",
    "4. XOR: Returns 1 if the bits are different; otherwise, returns 0.\n",
    "    FUNCTION USED : cv2.bitwise_xor"
   ]
  },
  {
   "cell_type": "code",
   "execution_count": 5,
   "id": "903893ab-cd5f-40e6-8d45-661bd7a2da81",
   "metadata": {},
   "outputs": [],
   "source": [
    "import cv2\n",
    "import numpy as np\n",
    "\n",
    "img1 = cv2.imread(r\"C:\\Users\\hp\\Downloads\\sample photos\\black and white 2.jpeg\")\n",
    "img2 = cv2.imread(r\"C:\\Users\\hp\\Downloads\\sample photos\\black and white 1.jpeg\")\n",
    "\n",
    "img1 = cv2.resize(img1,(200,200))\n",
    "img2 = cv2.resize(img2,(200,200))"
   ]
  },
  {
   "cell_type": "code",
   "execution_count": 6,
   "id": "676de393-6bc2-47b4-9606-02d2fe96ca91",
   "metadata": {},
   "outputs": [],
   "source": [
    "# BITWISE AND OPERATOR\n",
    "\n",
    "# WORKING =\n",
    "\n",
    "# For each pixel, each channel (R, G, B), and each bit (0 or 1) in that channel:\n",
    "# If both bits are 1 → Result is 1\n",
    "# If either is 0 → Result is 0\n",
    "# Only keeps white where both images are white.\n",
    "\n",
    "new = cv2.bitwise_and(img1,img2)\n",
    "\n",
    "h = np.hstack((img1,img2,new))\n",
    "cv2.imshow(\"demo\",h)\n",
    "cv2.waitKey(0)\n",
    "cv2.destroyAllWindows()"
   ]
  },
  {
   "cell_type": "code",
   "execution_count": 7,
   "id": "4272b1d3-cd53-4be8-9526-51dca83b1dff",
   "metadata": {},
   "outputs": [],
   "source": [
    "# BITWISE OR OPERATOR\n",
    "# keeps White wherever either image has white.\n",
    "\n",
    "new = cv2.bitwise_or(img1,img2)\n",
    "\n",
    "h = np.hstack((img1,img2,new))\n",
    "cv2.imshow(\"demo\",h)\n",
    "cv2.waitKey(0)\n",
    "cv2.destroyAllWindows()"
   ]
  },
  {
   "cell_type": "code",
   "execution_count": 8,
   "id": "d56fbcd8-7115-4984-9ed6-b74e93330a94",
   "metadata": {},
   "outputs": [],
   "source": [
    "# BITWISE NOT OPERATOR\n",
    "# Inverts black↔white in one image.\n",
    "\n",
    "new = cv2.bitwise_not(img1,img2)\n",
    "\n",
    "h = np.hstack((img1,img2,new))\n",
    "cv2.imshow(\"demo\",h)\n",
    "cv2.waitKey(0)\n",
    "cv2.destroyAllWindows()"
   ]
  },
  {
   "cell_type": "code",
   "execution_count": 9,
   "id": "ad3533c0-f391-45bb-b79b-9fda3e4c890e",
   "metadata": {},
   "outputs": [],
   "source": [
    "# BITWISE NOT OPERATOR\n",
    "# keeps white where only one image is white.\n",
    "\n",
    "new = cv2.bitwise_xor(img1,img2)\n",
    "\n",
    "h = np.hstack((img1,img2,new))\n",
    "cv2.imshow(\"demo\",h)\n",
    "cv2.waitKey(0)\n",
    "cv2.destroyAllWindows()"
   ]
  }
 ],
 "metadata": {
  "kernelspec": {
   "display_name": "Python 3 (ipykernel)",
   "language": "python",
   "name": "python3"
  },
  "language_info": {
   "codemirror_mode": {
    "name": "ipython",
    "version": 3
   },
   "file_extension": ".py",
   "mimetype": "text/x-python",
   "name": "python",
   "nbconvert_exporter": "python",
   "pygments_lexer": "ipython3",
   "version": "3.13.0"
  }
 },
 "nbformat": 4,
 "nbformat_minor": 5
}
