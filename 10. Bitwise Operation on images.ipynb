{
 "cells": [
  {
   "cell_type": "markdown",
   "id": "291481a2-ba00-491b-a452-afe70a2f52d8",
   "metadata": {},
   "source": [
    "BINARY IMAGES - \n",
    "Images that have only 2 colour channels \n",
    "like a black {represented by 0} and white {represented by 1} image\n",
    "\n",
    "BITWISE OPERATORS -\n",
    "1. AND: Returns 1 when both bits are 1; otherwise, returns 0.\n",
    "2. OR: Returns 1 if at least one of the bits is 1; otherwise, returns 0.\n",
    "3. NOT: Inverts the bit; 0 becomes 1, and 1 becomes 0.\n",
    "4. XOR: Returns 1 if the bits are different; otherwise, returns 0."
   ]
  },
  {
   "cell_type": "code",
   "execution_count": 1,
   "id": "676de393-6bc2-47b4-9606-02d2fe96ca91",
   "metadata": {},
   "outputs": [],
   "source": [
    "import cv2\n",
    "\n",
    "img1 = cv2.imread(r\"C:\\Users\\hp\\Downloads\\sample photos\\cat.jpg\")\n",
    "img2 = cv2.imread(r\"C:\\Users\\hp\\Downloads\\sample photos\\lake.jpeg\")\n",
    "\n",
    "img1 = cv2.resize(img1,(500,500))\n",
    "img2 = cv2.resize(img2,(500,500))\n",
    "\n",
    "new = cv2.bitwise_and(img1,img2)\n",
    "cv2.imshow(\"1\",new)"
   ]
  },
  {
   "cell_type": "code",
   "execution_count": null,
   "id": "0f2dbf64-0d60-4a92-b2a8-2156b82f5249",
   "metadata": {},
   "outputs": [],
   "source": []
  }
 ],
 "metadata": {
  "kernelspec": {
   "display_name": "Python 3 (ipykernel)",
   "language": "python",
   "name": "python3"
  },
  "language_info": {
   "codemirror_mode": {
    "name": "ipython",
    "version": 3
   },
   "file_extension": ".py",
   "mimetype": "text/x-python",
   "name": "python",
   "nbconvert_exporter": "python",
   "pygments_lexer": "ipython3",
   "version": "3.13.0"
  }
 },
 "nbformat": 4,
 "nbformat_minor": 5
}
