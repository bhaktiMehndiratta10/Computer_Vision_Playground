{
 "cells": [
  {
   "cell_type": "markdown",
   "id": "02712a6f-6b51-4413-8c0d-bce282be1ee9",
   "metadata": {},
   "source": [
    "# TOPIC - SCREEN CAPTURE\n",
    "\n",
    "GOAL ->\n",
    "Capture a defined region of your screen in real-time, display it like a live feed, and show how many frames per second (FPS) it’s managing.\n",
    "\n",
    "\n",
    "USE CASES ->\n",
    "    \n",
    "    1. Creating lightweight screen recorders.\n",
    "    2. Live screen analysis (like hand-tracking, object detection, etc.).\n",
    "    3. Debugging graphical applications.\n",
    "    4. Overlaying AI-powered insights on screen feeds\n",
    "\n",
    "This differs from cv2.VideoCapture() because this isn't capturing from a webcam or file, but directly from your display."
   ]
  },
  {
   "cell_type": "code",
   "execution_count": 1,
   "id": "19bf0b39-5d12-423c-9dee-505a48354718",
   "metadata": {},
   "outputs": [],
   "source": [
    "import numpy as np              # here used to convert the image into an array for OpenCV to process.\n",
    "from PIL import ImageGrab       # Brings in ImageGrab from the Python Imaging Library, this is used to take a screenshot of a portion of the screen.\n",
    "import cv2\n",
    "\n",
    "\n",
    "def captureScreen(bbox=(50,50,690,530)):                # Defines a function to capture a portion of the screen\n",
    "                                                        # bbox: bounding box, i.e., (left, top, right, bottom) coordinates\n",
    "    \n",
    "    capScr = np.array(ImageGrab.grab(bbox))             # Takes a screenshot of the specified screen area and converts it to a NumPy array\n",
    "    capScr = cv2.cvtColor(capScr, cv2.COLOR_RGB2BGR)    # Color conversion from RGB (used by PIL) to BGR (used by OpenCV).\n",
    "    return capScr\n",
    "\n",
    "\n",
    "while True:\n",
    "    timer = cv2.getTickCount()                          # Start time capture using OpenCV's high-resolution timer, used to measure how long the frame processing takes—used for FPS calc.\n",
    "    img = captureScreen()                               # Call the earlier function. Grabs a frame from the screen.\n",
    "    \n",
    "    fps = cv2.getTickFrequency() / (cv2.getTickCount() - timer);\n",
    "    cv2.putText(img,'FPS {}'.format(int(fps)), (75, 40), cv2.FONT_HERSHEY_SIMPLEX, 0.7, (20, 230, 20), 2)\n",
    "    \n",
    "    cv2.imshow('Screen Capture',img)\n",
    "    if cv2.waitKey(1) == ord('q'):\n",
    "        break"
   ]
  },
  {
   "cell_type": "markdown",
   "id": "b8d6ea47-9171-4549-a306-ccec05a9f90f",
   "metadata": {},
   "source": [
    "getTickCount() gives the current tick count (processor-specific cycles).\n",
    "getTickFrequency() tells you how many ticks occur per second.\n",
    "\n",
    "FPS = ticks per second / ticks it took to process one frame\n",
    "\n",
    "we can skip this fps thing, but simply call the function and skip FPS tracking:\n",
    "            \n",
    "    1. won’t know how smooth or jittery it is.\n",
    "    2. can’t optimize performance.\n",
    "    3. while doing heavy processing (e.g., AI detection), you won’t know how much it slows things down.\n",
    "\n",
    "\n",
    "multiple ways of calculating fps (like in hand tracking using pTime, cTime way) ->\n",
    "\n",
    "**cv2.getTickCount()** offers microsecond precision, ideal for high-performance real-time tasks like screen capture.\n",
    "**ptime/ctime** is simpler but less accurate—fine for slower or basic applications like webcam tracking.\n",
    "\n",
    "Hand tracking uses ptime/ctime because webcams are relatively stable and slower FPS (usually 15–30)\n",
    "But, For screen capture, things can run very fast (like 60–100+ FPS), so you use cv2.getTickCount() "
   ]
  }
 ],
 "metadata": {
  "kernelspec": {
   "display_name": "Python 3.10 (with Mediapipe)",
   "language": "python",
   "name": "py310"
  },
  "language_info": {
   "codemirror_mode": {
    "name": "ipython",
    "version": 3
   },
   "file_extension": ".py",
   "mimetype": "text/x-python",
   "name": "python",
   "nbconvert_exporter": "python",
   "pygments_lexer": "ipython3",
   "version": "3.10.0"
  }
 },
 "nbformat": 4,
 "nbformat_minor": 5
}
