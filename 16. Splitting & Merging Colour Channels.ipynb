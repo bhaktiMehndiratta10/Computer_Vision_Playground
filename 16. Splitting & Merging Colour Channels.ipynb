{
 "cells": [
  {
   "cell_type": "markdown",
   "id": "b0bdc2d5-cbe5-49d4-8e22-574920d7ba71",
   "metadata": {},
   "source": [
    "# SPLITTING A COLOUR CHANNEL INTO ITS INDIVIDUAL COLOUR COMPONENTS\n",
    "\n",
    "Output will be images displayed in grayscale that show the distribution of pixel intensity.\n",
    "\n",
    "Regions where its LIGHTER shows that there is far MORE concentration of those pixel value. \n",
    "\n",
    "Regions where its DARKER shows that there is LITTLE OR NO concentration of those pixel value. "
   ]
  },
  {
   "cell_type": "code",
   "execution_count": 9,
   "id": "17c31de5-f244-4c1b-8205-f5989baff31e",
   "metadata": {},
   "outputs": [
    {
     "name": "stdout",
     "output_type": "stream",
     "text": [
      "(183, 275, 3)\n",
      "(183, 275)\n",
      "(183, 275)\n",
      "(183, 275)\n"
     ]
    }
   ],
   "source": [
    "import cv2 as cv\n",
    "\n",
    "img = cv.imread(r\"C:\\Users\\hp\\Downloads\\sample photos\\tree.jpg\")\n",
    "B,G,R = cv.split(img)\n",
    "\n",
    "cv.imshow(\"Blue\", B)\n",
    "cv.imshow(\"Green\", G)\n",
    "cv.imshow(\"Red\", R)\n",
    "\n",
    "# visulizing the shape(PROPERTIES/DIMESIONS) of the image\n",
    "print(img.shape)\n",
    "print(B.shape)\n",
    "print(G.shape)\n",
    "print(R.shape)\n",
    "\n",
    "cv.waitKey(0)\n",
    "cv.destroyAllWindows()"
   ]
  },
  {
   "cell_type": "markdown",
   "id": "5b3297f6-b1e5-41e5-a9d1-02ce14fb2d6d",
   "metadata": {},
   "source": [
    "# MERGING INDIVIDUAL COLOURS (ABOVE SPLITTED) INTO ONE COLOUR CHANNEL"
   ]
  },
  {
   "cell_type": "code",
   "execution_count": 10,
   "id": "7654fa85-4117-462d-86ea-a41f8a76d756",
   "metadata": {},
   "outputs": [
    {
     "data": {
      "text/plain": [
       "-1"
      ]
     },
     "execution_count": 10,
     "metadata": {},
     "output_type": "execute_result"
    }
   ],
   "source": [
    "import cv2 as cv\n",
    "\n",
    "img = cv.imread(r\"C:\\Users\\hp\\Downloads\\sample photos\\tree.jpg\")\n",
    "\n",
    "# SPLITTING \n",
    "B,G,R = cv.split(img)\n",
    "\n",
    "# MERGING\n",
    "merged = cv.merge([B,G,R])\n",
    "cv.imshow(\"Merged image\", merged)\n",
    "cv.waitKey(0)"
   ]
  }
 ],
 "metadata": {
  "kernelspec": {
   "display_name": "Python 3 (ipykernel)",
   "language": "python",
   "name": "python3"
  },
  "language_info": {
   "codemirror_mode": {
    "name": "ipython",
    "version": 3
   },
   "file_extension": ".py",
   "mimetype": "text/x-python",
   "name": "python",
   "nbconvert_exporter": "python",
   "pygments_lexer": "ipython3",
   "version": "3.13.0"
  }
 },
 "nbformat": 4,
 "nbformat_minor": 5
}
