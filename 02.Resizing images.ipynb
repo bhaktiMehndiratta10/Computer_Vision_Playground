{
 "cells": [
  {
   "cell_type": "markdown",
   "id": "46e828dc-b34e-419e-87d7-17ec89af9f2a",
   "metadata": {},
   "source": [
    "TOPIC = RESIZING IMAGES"
   ]
  },
  {
   "cell_type": "markdown",
   "id": "7d21883d-fa38-4195-baa6-8963916e15b7",
   "metadata": {},
   "source": [
    "function used-\n",
    "\n",
    "1. cv.resize(img, (width,height))\n",
    "\n",
    "   \n",
    "takes 3 parameters = (image in quetsion, (new width, new height))"
   ]
  },
  {
   "cell_type": "code",
   "execution_count": 2,
   "id": "8ae2a88d-d051-46c8-b2dd-577d8dc8475c",
   "metadata": {},
   "outputs": [],
   "source": [
    "import cv2 as cv\n",
    "\n",
    "img = cv.imread(r'C:\\Users\\hp\\Downloads\\sample photos\\cat.jpg')      \n",
    "\n",
    "width=200\n",
    "height=100\n",
    "\n",
    "# resizing function (takes 3 parameter) = \n",
    "resized_img = cv.resize(img, (width,height))\n",
    "\n",
    "cv.imshow(\"Demo\", resized_img)\n",
    "cv.waitKey(0) \n",
    "cv.destroyAllWindows()"
   ]
  },
  {
   "cell_type": "markdown",
   "id": "ce14ac26-bfb4-46b2-9088-d44a9c0a5174",
   "metadata": {},
   "source": [
    "or can directly\n",
    "\n",
    "resized_img = cv.resize(img, (200,100))"
   ]
  }
 ],
 "metadata": {
  "kernelspec": {
   "display_name": "Python 3 (ipykernel)",
   "language": "python",
   "name": "python3"
  },
  "language_info": {
   "codemirror_mode": {
    "name": "ipython",
    "version": 3
   },
   "file_extension": ".py",
   "mimetype": "text/x-python",
   "name": "python",
   "nbconvert_exporter": "python",
   "pygments_lexer": "ipython3",
   "version": "3.13.0"
  }
 },
 "nbformat": 4,
 "nbformat_minor": 5
}
