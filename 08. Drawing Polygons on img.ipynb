{
 "cells": [
  {
   "cell_type": "code",
   "execution_count": null,
   "id": "1c42df90-4e8c-40dc-ab79-cecf3820cb13",
   "metadata": {},
   "outputs": [],
   "source": [
    "import cv2\n",
    "import numpy as np\n",
    "\n",
    "image = cv2.imread(r\"C:\\Users\\hp\\Downloads\\sample photos\\cat.jpg\")\n",
    "\n",
    "# Define polygon points (in a pentagon shape)\n",
    "pts = np.array([[100, 300], [200, 200], [300, 200], [400, 300], [250, 400]], np.int32)\n",
    "pts = pts.reshape((-1, 1, 2))\n",
    "\n",
    "# Draw the polygon\n",
    "cv2.polylines(image, [pts], isClosed=True, color=(0, 0, 255), thickness=3)\n",
    "\n",
    "# To fill the polygon\n",
    "cv2.fillPoly(image, [pts], color=(0, 255, 0))  # Green-filled pentagon\n",
    "\n",
    "# Show the result\n",
    "cv2.imshow(\"Polygon\", image)\n",
    "cv2.waitKey(0)\n",
    "cv2.destroyAllWindows()"
   ]
  }
 ],
 "metadata": {
  "kernelspec": {
   "display_name": "Python 3 (ipykernel)",
   "language": "python",
   "name": "python3"
  },
  "language_info": {
   "codemirror_mode": {
    "name": "ipython",
    "version": 3
   },
   "file_extension": ".py",
   "mimetype": "text/x-python",
   "name": "python",
   "nbconvert_exporter": "python",
   "pygments_lexer": "ipython3",
   "version": "3.13.0"
  }
 },
 "nbformat": 4,
 "nbformat_minor": 5
}
