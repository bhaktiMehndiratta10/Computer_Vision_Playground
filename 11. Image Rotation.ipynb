{
 "cells": [
  {
   "cell_type": "markdown",
   "id": "2b9eb225-0401-4a5c-8286-74a660237691",
   "metadata": {},
   "source": [
    "# IMAGE ROTATION\n",
    "\n",
    "FUNCTION USED HERE = cv2.getRotationMatrix2D()\n",
    "Take 3 Parameters =\n",
    "\n",
    "1. center\n",
    "2. angle\n",
    "3. scaling\n",
    "\n",
    "SECOND FUNCTION = warpAffine\n",
    "Take 3 Parameters =\n",
    "\n",
    "1. original image\n",
    "2. m after getRotationMatrix2D\n",
    "3. width,height of original image\n"
   ]
  },
  {
   "cell_type": "code",
   "execution_count": 3,
   "id": "7794b77b-6536-40d1-bf9c-9c6f08ab6863",
   "metadata": {},
   "outputs": [],
   "source": [
    "import cv2\n",
    "img = cv2.imread(r\"C:\\Users\\hp\\Downloads\\sample photos\\lake.jpeg\")\n",
    "resized_img = cv2.resize(img, (300,400))\n",
    "\n",
    "width = resized_img.shape[0]\n",
    "height = resized_img.shape[1]\n",
    "center = (width/2, height/2)\n",
    "\n",
    "# m here is mass\n",
    "# m will return a matrix\n",
    "m = cv2.getRotationMatrix2D( center,40,1 )\n",
    "m\n",
    "\n",
    "# now need to merge the m matrix as well as matrix of original image\n",
    "new_img = cv2.warpAffine(resized_img, m, (width,height))\n",
    "\n",
    "cv2.imshow(\"Demo\",new_img)\n",
    "cv2.waitKey(0)\n",
    "cv2.destroyAllWindows()"
   ]
  },
  {
   "cell_type": "markdown",
   "id": "682c8038-6f23-4f83-8f82-d91d3a8dd80a",
   "metadata": {},
   "source": []
  }
 ],
 "metadata": {
  "kernelspec": {
   "display_name": "Python 3 (ipykernel)",
   "language": "python",
   "name": "python3"
  },
  "language_info": {
   "codemirror_mode": {
    "name": "ipython",
    "version": 3
   },
   "file_extension": ".py",
   "mimetype": "text/x-python",
   "name": "python",
   "nbconvert_exporter": "python",
   "pygments_lexer": "ipython3",
   "version": "3.13.0"
  }
 },
 "nbformat": 4,
 "nbformat_minor": 5
}
