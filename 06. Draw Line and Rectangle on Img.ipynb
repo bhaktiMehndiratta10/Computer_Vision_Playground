{
 "cells": [
  {
   "cell_type": "markdown",
   "id": "9c80a23e-fda3-4a2a-9557-7b8c582d3356",
   "metadata": {},
   "source": [
    "TOPIC - DRAWING LINES AND RECTANGLES ON IMAGE\n",
    "\n",
    "used in face detection\n",
    "like in cameras, a box detects our face/object"
   ]
  },
  {
   "cell_type": "markdown",
   "id": "e35c8dce-3505-4b6d-bbff-40682860118f",
   "metadata": {},
   "source": [
    "// MAKING \"LINES\" \n",
    "\n",
    "FUNCTION USED HERE IS CV2.LINE( 6 PARAMETERS )\n",
    "\n",
    "1. img = original image\n",
    "2. pt1 = starting coordinates of line (x1, y1) :topmost point is (0,0)\n",
    "3. pt2 = ending coordinates of line (x2, y2)\n",
    "4. color = BGR color of line : to get it type bgr colour chart on net & choose the colour \n",
    "5. thickness = width of line\n",
    "6. lineType = 4 main types and we need to mention code of line type\n",
    "\n",
    "lineType - \n",
    "\n",
    "1. Filled (code = -1)\n",
    "2. Line_4 (code = 4)\n",
    "3. Line_8 (code = 8)\n",
    "4. Line_AA (code = 16)"
   ]
  },
  {
   "cell_type": "code",
   "execution_count": 5,
   "id": "96bb6928-7b95-4f4c-941e-fa5ed600168d",
   "metadata": {},
   "outputs": [],
   "source": [
    "# x coordinates of pt1, pt2 same = VERTICAL LINE\n",
    "# y coordinates of pt1, pt2 same = HORIZONTAL LINE\n",
    "\n",
    "import cv2\n",
    "old_img = cv2.imread(r\"C:\\Users\\hp\\Downloads\\sample photos\\meeting.jpeg\")\n",
    "resized_img = cv2.resize(old_img, (400,300))\n",
    "\n",
    "line_img = cv2.line(img = resized_img, pt1= (250,210), pt2=(250,190), color=(0,255,0), thickness=4, lineType=4)\n",
    "\n",
    "cv2.imshow(\"Meeting\",line_img)\n",
    "cv2.waitKey(0)\n",
    "cv2.destroyAllWindows()"
   ]
  },
  {
   "cell_type": "markdown",
   "id": "983c3e3d-97e4-493d-b8f5-6e4e0388464e",
   "metadata": {},
   "source": [
    "// MAKING \"RECTANGLES\" \n",
    "\n",
    "FUNCTION USED HERE IS CV2.RECTANGLES( 6 PARAMETERS )\n",
    "\n",
    "same parameter as cv2.line\n",
    "just that pt1 = first top left vertex\n",
    "          pt2 = second bottom right vertex"
   ]
  },
  {
   "cell_type": "code",
   "execution_count": 10,
   "id": "11e3bc71-6c06-4ea9-a839-94fac2cfb001",
   "metadata": {},
   "outputs": [],
   "source": [
    "import cv2\n",
    "old_img = cv2.imread(r\"C:\\Users\\hp\\Downloads\\sample photos\\meeting.jpeg\")\n",
    "resized_img = cv2.resize(old_img, (400,300))\n",
    "\n",
    "rectangle_img = cv2.rectangle(img = resized_img, pt1= (100,50), pt2=(350,200), color=(0,255,0), thickness=4, lineType=16)\n",
    "\n",
    "cv2.imshow(\"Meeting\",rectangle_img)\n",
    "cv2.waitKey(0)\n",
    "cv2.destroyAllWindows()"
   ]
  },
  {
   "cell_type": "code",
   "execution_count": null,
   "id": "174e1e64-cc83-4113-85c4-06535db99056",
   "metadata": {},
   "outputs": [],
   "source": []
  }
 ],
 "metadata": {
  "kernelspec": {
   "display_name": "Python 3 (ipykernel)",
   "language": "python",
   "name": "python3"
  },
  "language_info": {
   "codemirror_mode": {
    "name": "ipython",
    "version": 3
   },
   "file_extension": ".py",
   "mimetype": "text/x-python",
   "name": "python",
   "nbconvert_exporter": "python",
   "pygments_lexer": "ipython3",
   "version": "3.13.0"
  }
 },
 "nbformat": 4,
 "nbformat_minor": 5
}
