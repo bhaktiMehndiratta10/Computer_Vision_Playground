{
 "cells": [
  {
   "cell_type": "markdown",
   "id": "df8c4126-1f54-4c0e-9726-e460871afc3a",
   "metadata": {},
   "source": [
    "# 1. IMPROVING CONTRAST OF GRAYSCALE IMAGES\n",
    "\n",
    "**FUNCTION USED** -> equalized = cv2.equalizeHist(gray_image)\n",
    "\n",
    "The image must be in grayscale. It won't work directly on color images.\n",
    "\n",
    "**USE CASE** -\n",
    "1. Enhancing old, low-light, or faded images\n",
    "2. Preprocessing for better edge/feature detection\n",
    "3. Making dark areas more visible without manual tuning"
   ]
  },
  {
   "cell_type": "code",
   "execution_count": 11,
   "id": "3c7dc4e9-5c6a-4cf8-a1d0-87ef23bab0d0",
   "metadata": {},
   "outputs": [
    {
     "data": {
      "text/plain": [
       "<function destroyAllWindows>"
      ]
     },
     "execution_count": 11,
     "metadata": {},
     "output_type": "execute_result"
    }
   ],
   "source": [
    "import cv2 as cv\n",
    "\n",
    "img = cv.imread(r\"C:\\Users\\hp\\Downloads\\sample photos\\cat.jpg\")\n",
    "gray_img = cv.cvtColor(img, cv.COLOR_BGR2GRAY)\n",
    "equalized = cv.equalizeHist(gray_img)\n",
    "\n",
    "cv.imshow(\"Demo-gray\",equalized)\n",
    "cv.waitKey(0)\n",
    "cv.destroyAllWindows"
   ]
  },
  {
   "cell_type": "markdown",
   "id": "fa5d620d-c76f-408a-bda9-d8623df67a15",
   "metadata": {},
   "source": [
    "# 2. BLURRING AN IMAGE\n",
    "\n",
    "\n",
    "**FUNCTION USED** ->\n",
    "cv.GaussianBlur( 3 parmeters )\n",
    "\n",
    "1. original image\n",
    "   \n",
    "2. kernel size :\n",
    "\n",
    "It is a size of the window (a small matrix) that slides over your image to apply the blur.\n",
    "\n",
    "Kernel size must be odd numbers (like 3, 5, 7...).\n",
    "Even numbers won’t work. The kernel needs a clear center pixel\n",
    "\n",
    "The larger the kernel, the stronger the blur.\n",
    "\n",
    "3. cv.BORDER_DEFAULT :\n",
    "\n",
    "Defines how the borders of the image are handled.\n",
    "tells OpenCV what to do when the kernel goes over the edge of the image.\n",
    "\n",
    "When the kernel is at the border (top-left or bottom-right corner), it tries to access pixels outside the image. But there are no pixels beyond the edge—so OpenCV must fake it somehow.\n",
    "\n",
    "cv.BORDER_DEFAULT usually behaves like cv.BORDER_REFLECT_101, which means:\n",
    "\n",
    "Reflect the border pixels with a slight shift"
   ]
  },
  {
   "cell_type": "code",
   "execution_count": null,
   "id": "0d213f15-8db9-442f-9493-031cbba56db0",
   "metadata": {},
   "outputs": [],
   "source": [
    "import cv2 as cv\n",
    "\n",
    "img = cv.imread(r\"C:\\Users\\hp\\Downloads\\sample photos\\meeting.jpeg\")\n",
    "a = cv.resize(img,(200,200))\n",
    "\n",
    "cv.imshow(\"Demo\",a)\n",
    "cv.waitKey(0)\n",
    "cv.destroyAllWindows\n",
    "\n",
    "blur1 = cv.GaussianBlur(a, (3,3), cv.BORDER_DEFAULT)\n",
    "blur2 = cv.GaussianBlur(a, (9,9), cv.BORDER_DEFAULT)\n",
    "\n",
    "cv.imshow(\"Demo-low-blur-intensity\",blur1)\n",
    "cv.imshow(\"Demo-high-blur-intensity\",blur1)\n",
    "\n",
    "cv.waitKey(0)\n",
    "cv.destroyAllWindows"
   ]
  },
  {
   "cell_type": "markdown",
   "id": "411fc443-0e53-4b16-b8ad-86bb0b13a50e",
   "metadata": {},
   "source": [
    "# 3.  EDGE CASCADE :\n",
    "   Edges are the boundaries where pixel intensity changes sharply.\n",
    "\n",
    "   It involves finding the edges in an image\n",
    "\n",
    "   Many edge detector present = here using \"Canny Edge Detector\"\n",
    "\n",
    "   **A strong edge** = big change in pixel intensity (e.g., black next to white).\n",
    "\n",
    "   **A weak edge** = small change (e.g., gray next to slightly darker gray).\n",
    "\n",
    "**FUNCTION USED** ->\n",
    "cv.Canny( 3 Parameters )\n",
    "\n",
    "1. original image\n",
    "   \n",
    "2. Threshold 1 -  Lower bound—edges stronger than this might be kept if connected to strong edges.\n",
    "\n",
    "3. Threshold 2 -  Upper bound—edges stronger than this are definitely kept as strong edges."
   ]
  },
  {
   "cell_type": "code",
   "execution_count": 1,
   "id": "7a14f913-0ae5-4b70-ac2a-724494a370bb",
   "metadata": {},
   "outputs": [
    {
     "data": {
      "text/plain": [
       "<function destroyAllWindows>"
      ]
     },
     "execution_count": 1,
     "metadata": {},
     "output_type": "execute_result"
    }
   ],
   "source": [
    "import cv2 as cv\n",
    "\n",
    "img = cv.imread(r\"C:\\Users\\hp\\Downloads\\sample photos\\cat.jpg\")\n",
    "canny = cv.Canny(img, 125,175)\n",
    "\n",
    "cv.imshow(\"demo-canny\", canny)\n",
    "cv.waitKey(0)\n",
    "cv.destroyAllWindows"
   ]
  },
  {
   "cell_type": "markdown",
   "id": "f385c13f-5bce-4f43-bac9-d8607ae1c986",
   "metadata": {},
   "source": [
    "# 4. DILATING AN IMAGE :\n",
    "    Dilation makes the bright parts of an image grow bigger.\n",
    "\n",
    "   \n",
    "**FUNCTION USED** -> cv.dilate ( 3 Parameters )\n",
    "1. original image\n",
    "2. kernel\n",
    "3. iterations – How many times to apply the dilation"
   ]
  },
  {
   "cell_type": "code",
   "execution_count": 6,
   "id": "64944b55-e3a6-4c6f-98c8-45c73056069a",
   "metadata": {},
   "outputs": [
    {
     "data": {
      "text/plain": [
       "<function destroyAllWindows>"
      ]
     },
     "execution_count": 6,
     "metadata": {},
     "output_type": "execute_result"
    }
   ],
   "source": [
    "import cv2 as cv\n",
    "\n",
    "img = cv.imread(r\"C:\\Users\\hp\\Downloads\\sample photos\\cat.jpg\")\n",
    "dilate = cv.dilate(img, (3,3), iterations=1)\n",
    "\n",
    "cv.imshow(\"demo-dilate\", dilate)\n",
    "cv.waitKey(0)\n",
    "cv.destroyAllWindows"
   ]
  },
  {
   "cell_type": "markdown",
   "id": "67f28d5b-5104-4ced-a9f8-501e5a649a84",
   "metadata": {},
   "source": [
    "# 5. ERODING AN IMAGE : \n",
    "    Eroding shrinks the white regions (foreground) in a binary image.\n",
    "\n",
    "**FUNCTION USED** -> cv.erode ( 3 Parameters )\n",
    "\n",
    "1. original image\n",
    "2. kernel\n",
    "3. iterations – How many times to apply the dilation"
   ]
  },
  {
   "cell_type": "code",
   "execution_count": 7,
   "id": "80bc4ed1-caba-4809-99dd-115e835d5325",
   "metadata": {},
   "outputs": [
    {
     "data": {
      "text/plain": [
       "<function destroyAllWindows>"
      ]
     },
     "execution_count": 7,
     "metadata": {},
     "output_type": "execute_result"
    }
   ],
   "source": [
    "import cv2 as cv\n",
    "\n",
    "img = cv.imread(r\"C:\\Users\\hp\\Downloads\\sample photos\\cat.jpg\")\n",
    "erode = cv.erode(img, (3,3), iterations=1)\n",
    "\n",
    "cv.imshow(\"demo-erode\", erode)\n",
    "cv.waitKey(0)\n",
    "cv.destroyAllWindows"
   ]
  }
 ],
 "metadata": {
  "kernelspec": {
   "display_name": "Python 3 (ipykernel)",
   "language": "python",
   "name": "python3"
  },
  "language_info": {
   "codemirror_mode": {
    "name": "ipython",
    "version": 3
   },
   "file_extension": ".py",
   "mimetype": "text/x-python",
   "name": "python",
   "nbconvert_exporter": "python",
   "pygments_lexer": "ipython3",
   "version": "3.13.0"
  }
 },
 "nbformat": 4,
 "nbformat_minor": 5
}
