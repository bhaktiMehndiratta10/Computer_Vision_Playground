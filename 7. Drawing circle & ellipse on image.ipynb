{
 "cells": [
  {
   "cell_type": "markdown",
   "id": "e767657b-43b4-4ae9-bd8a-fe59b03842b8",
   "metadata": {},
   "source": [
    "TOPIC - DRAWING CIRCLE AND ELLIPSE ON IMG\n",
    "\n",
    "used for hiding/filling object/person in an image\n",
    "circle the object in question and blur it or fill it"
   ]
  },
  {
   "cell_type": "markdown",
   "id": "d452b6a6-9841-43b6-ad2d-2d710d19cd21",
   "metadata": {},
   "source": [
    "DRAWING CIRCLES\n",
    "\n",
    "Function used here = cv2.circle ( 7 Parameters )\n",
    "\n",
    "1. img = on which circle needs to be drawn\n",
    "2. center = center coordinates of circle\n",
    "3. radius = radius of circle\n",
    "4. color = BGR colour of circle\n",
    "5. thickness = thickness of circle (when value increases, then thickness increases OUTWARDS FROM BOUNDARY, so to completely FILL circle thickness = \"-1\"\n",
    "6. lineType = to be written in code (same as making line)"
   ]
  },
  {
   "cell_type": "code",
   "execution_count": 6,
   "id": "92d50b29-036c-4db4-af5c-c4a075f313e9",
   "metadata": {},
   "outputs": [],
   "source": [
    "# circle outlining the face \n",
    "\n",
    "import cv2\n",
    "\n",
    "original_img = cv2.imread(r\"C:\\Users\\hp\\Downloads\\sample photos\\meeting.jpeg\")\n",
    "resize_img = cv2.resize(original_img, (300,300))\n",
    "\n",
    "new_img = cv2.circle(img=resize_img, center=(180,70), radius=30, color=(0,255,0), thickness=4, lineType=4)\n",
    "\n",
    "cv2.imshow(\"meeting\", new_img)\n",
    "cv2.waitKey(0)\n",
    "cv2.destroyAllWindows()"
   ]
  },
  {
   "cell_type": "code",
   "execution_count": 7,
   "id": "be580e77-315f-4587-a0e2-21c12abfabbf",
   "metadata": {},
   "outputs": [],
   "source": [
    "# completely filled circle (thickness =-1)\n",
    "\n",
    "import cv2\n",
    "\n",
    "original_img = cv2.imread(r\"C:\\Users\\hp\\Downloads\\sample photos\\meeting.jpeg\")\n",
    "resize_img = cv2.resize(original_img, (300,300))\n",
    "\n",
    "new_img = cv2.circle(img=resize_img, center=(180,70), radius=30, color=(0,255,0), thickness=-1, lineType=4)\n",
    "\n",
    "cv2.imshow(\"meeting\", new_img)\n",
    "cv2.waitKey(0)\n",
    "cv2.destroyAllWindows()"
   ]
  },
  {
   "cell_type": "markdown",
   "id": "dd3f0e64-2697-43ae-b143-e56a75366509",
   "metadata": {},
   "source": [
    "DRAWING ELLIPSE\n",
    "\n",
    "Function used here = cv2.ellipse ( 9 Parameters )\n",
    "\n",
    "all 6 of cv2.circle() EXCPET RADIUS, +4 new paramters\n",
    "\n",
    "\n",
    "1. axes - represents half of the ellipse's width and height = (major_axis_length, minor_axis_length)\n",
    "   \n",
    "2. angle - rotation angle of the ellipse in degrees, counter-clockwise from the x-axis, basically How much to rotate the ellipse (in degrees).\n",
    "\n",
    "3. startAngle - Where to begin drawing the arc\n",
    "\n",
    "4. endAngle - Where to stop drawing the arc"
   ]
  },
  {
   "cell_type": "code",
   "execution_count": null,
   "id": "d9496e10-8d0e-4daa-a9e2-2410cb37936f",
   "metadata": {},
   "outputs": [],
   "source": [
    "# ellipse outlining the face \n",
    "\n",
    "import cv2\n",
    "\n",
    "original_img = cv2.imread(r\"C:\\Users\\hp\\Downloads\\sample photos\\meeting.jpeg\")\n",
    "resize_img = cv2.resize(original_img, (300,300))\n",
    "\n",
    "new_img = cv2.ellipse(img=resize_img, center=(180,70), axes=(50,100), angle=30, startAngle=0, endAngle=360, color=(0,255,0), thickness=4, lineType=4)\n",
    "\n",
    "cv2.imshow(\"meeting\", new_img)\n",
    "cv2.waitKey(0)\n",
    "cv2.destroyAllWindows()"
   ]
  },
  {
   "cell_type": "code",
   "execution_count": null,
   "id": "7ffd30a4-5182-4fb9-9a6a-6b764119aa05",
   "metadata": {},
   "outputs": [],
   "source": []
  }
 ],
 "metadata": {
  "kernelspec": {
   "display_name": "Python 3 (ipykernel)",
   "language": "python",
   "name": "python3"
  },
  "language_info": {
   "codemirror_mode": {
    "name": "ipython",
    "version": 3
   },
   "file_extension": ".py",
   "mimetype": "text/x-python",
   "name": "python",
   "nbconvert_exporter": "python",
   "pygments_lexer": "ipython3",
   "version": "3.13.0"
  }
 },
 "nbformat": 4,
 "nbformat_minor": 5
}
