{
 "cells": [
  {
   "cell_type": "markdown",
   "id": "7d08db34-083c-4798-8043-0696b8f25205",
   "metadata": {},
   "source": [
    "TOPIC - TEXT OVER AN IMAGE"
   ]
  },
  {
   "cell_type": "markdown",
   "id": "e8f434d0-be7f-4798-bb05-632ba6210306",
   "metadata": {},
   "source": [
    "Function used here is = cv2.putText(takes 9 parameter)\n",
    "\n",
    "\n",
    "Parameters :\n",
    "1. img\t= The image you want to draw the text on (a NumPy array).\n",
    "2. text\t= The actual string of text you want to overlay.\n",
    "3. org\t(Origin) = (x, y) coordinates where the text starts (bottom-left corner of text).\n",
    "4. fontFace\t= Font type (like cv2.FONT_HERSHEY_SIMPLEX etc.).\n",
    "5. fontScale = Scale factor that multiplies the font size (e.g., 1.0, 2.0, etc.).\n",
    "6. color = Color of the text in BGR format (e.g., (255, 255, 255) for white).\n",
    "7. thickness (opt) = Thickness of the lines used to draw the text (default is 1).\n",
    "8. lineType (opt) = Type of line used (e.g., cv2.LINE_AA for anti-aliased, smooth edges).\n",
    "9. bottomLeftOrigin (opt) = If True, origin is bottom-left ie. text id siplayed like water image (opposite);; if False, top-left (default is False)."
   ]
  },
  {
   "cell_type": "code",
   "execution_count": 4,
   "id": "ee741d04-d7f3-4daa-af8c-3eefe9c966c5",
   "metadata": {},
   "outputs": [],
   "source": [
    "import cv2\n",
    "\n",
    "\n",
    "image = cv2.imread(r\"C:\\Users\\hp\\Downloads\\sample photos\\autumn.jpeg\")\n",
    "text = \"Nature image\"\n",
    "org = (50, 100)  # (x, y) position on the image\n",
    "font = cv2.FONT_HERSHEY_SIMPLEX\n",
    "font_scale = 1\n",
    "font_color = (255, 255, 255)  # White in BGR\n",
    "thickness = 2\n",
    "line_type = cv2.LINE_AA\n",
    "\n",
    "# TO DISPLAY TEXT IN OPPOSITE DIRECTION (WATER IMAGE)\n",
    "# bottomLeftOrigin = True\n",
    "\n",
    "\n",
    "# putText functions\n",
    "cv2.putText(image, text, org, font, font_scale, font_color, thickness, line_type, bottomLeftOrigin=False)\n",
    "cv2.putText(image, text, org, font, font_scale, font_color, thickness, line_type, bottomLeftOrigin=True)\n",
    "\n",
    "\n",
    "\n",
    "cv2.imshow('Image with Text', image)\n",
    "cv2.waitKey(0)\n",
    "cv2.destroyAllWindows()"
   ]
  }
 ],
 "metadata": {
  "kernelspec": {
   "display_name": "Python 3 (ipykernel)",
   "language": "python",
   "name": "python3"
  },
  "language_info": {
   "codemirror_mode": {
    "name": "ipython",
    "version": 3
   },
   "file_extension": ".py",
   "mimetype": "text/x-python",
   "name": "python",
   "nbconvert_exporter": "python",
   "pygments_lexer": "ipython3",
   "version": "3.13.0"
  }
 },
 "nbformat": 4,
 "nbformat_minor": 5
}
