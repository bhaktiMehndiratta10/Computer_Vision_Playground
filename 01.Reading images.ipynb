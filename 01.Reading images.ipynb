{
 "cells": [
  {
   "cell_type": "markdown",
   "id": "b6ecd147-5a1f-4d60-a17c-283cdfa3d48e",
   "metadata": {},
   "source": [
    "TOPIC - READING, SHOWING IMAGES, & DELETING WINDOWS"
   ]
  },
  {
   "cell_type": "markdown",
   "id": "cf89dc05-a34f-4b17-9a4b-94caebf192c4",
   "metadata": {},
   "source": [
    "Functions used here =\n",
    "\n",
    "1. imread  :   takes img path & stores image as matrix (Numpy array) of pixels\n",
    "2. imshow  :   displays the image \n",
    "3. waitKey :   delays the execution of next line of code"
   ]
  },
  {
   "cell_type": "code",
   "execution_count": 2,
   "id": "daa42af5-48cb-4a5e-9485-86c0a977fcfd",
   "metadata": {},
   "outputs": [],
   "source": [
    "import cv2 as cv"
   ]
  },
  {
   "cell_type": "code",
   "execution_count": 3,
   "id": "c8bfeed2-7df5-41f5-8914-a01de86f8ed2",
   "metadata": {},
   "outputs": [
    {
     "data": {
      "text/plain": [
       "-1"
      ]
     },
     "execution_count": 3,
     "metadata": {},
     "output_type": "execute_result"
    }
   ],
   "source": [
    "img = cv.imread(r'C:\\Users\\hp\\Downloads\\sample photos\\cat.jpg')      # (1) takes img path and in variable i stores image as matrix (Numpy array) of pixels\n",
    "cv.imshow(\"Demo\", img)                                              # (2) displays the image (pass the variable storing image as matrix of pixels created in above step)\n",
    "cv.waitKey(0)                                                       # (3) It delays the execution of next line of code. It pauses the main thread, giving time for GUI events\n",
    "                                                                    #     The image flashes only for the number of milliseconds mentioned as delay\n",
    "                                                                    #     The image flashes indefinitely when delay mentioned as 0"
   ]
  },
  {
   "cell_type": "markdown",
   "id": "8fdf1905-9400-48bb-a98a-86e1fe911154",
   "metadata": {},
   "source": [
    "cv.destroyAllWindows() = closes all multiple windows when esc key pressed\n",
    "\n",
    "\n",
    "cv.destroyWindow(name) = closes only 1 specified window when esc key pressed"
   ]
  },
  {
   "cell_type": "code",
   "execution_count": 4,
   "id": "b414f0a3-001c-4a01-8f7e-932ffe5b79c1",
   "metadata": {},
   "outputs": [],
   "source": [
    "# destroyAllWindows()\n",
    "\n",
    "img = cv.imread(r'C:\\Users\\hp\\Downloads\\sample photos\\cat.jpg')      \n",
    "cv.imshow(\"Demo\", img)\n",
    "cv.imshow(\"Demo-1\", img)\n",
    "cv.imshow(\"Demo-2\", img)\n",
    "cv.waitKey(0) \n",
    "cv.destroyAllWindows()"
   ]
  },
  {
   "cell_type": "code",
   "execution_count": 5,
   "id": "98026f33-fc7e-46bd-8511-06eeaa7efe74",
   "metadata": {},
   "outputs": [],
   "source": [
    "# destroyWindows(Windows name)\n",
    "\n",
    "img = cv.imread(r'C:\\Users\\hp\\Downloads\\sample photos\\cat.jpg')      \n",
    "cv.imshow(\"Demo\", img)\n",
    "cv.imshow(\"Demo-1\", img)\n",
    "cv.imshow(\"Demo-2\", img)\n",
    "cv.waitKey(0) \n",
    "cv.destroyWindow(\"Demo-2\")"
   ]
  },
  {
   "cell_type": "code",
   "execution_count": null,
   "id": "99badb5e-291a-4a48-8906-9089b9860aad",
   "metadata": {},
   "outputs": [],
   "source": []
  }
 ],
 "metadata": {
  "kernelspec": {
   "display_name": "Python 3 (ipykernel)",
   "language": "python",
   "name": "python3"
  },
  "language_info": {
   "codemirror_mode": {
    "name": "ipython",
    "version": 3
   },
   "file_extension": ".py",
   "mimetype": "text/x-python",
   "name": "python",
   "nbconvert_exporter": "python",
   "pygments_lexer": "ipython3",
   "version": "3.13.0"
  }
 },
 "nbformat": 4,
 "nbformat_minor": 5
}
