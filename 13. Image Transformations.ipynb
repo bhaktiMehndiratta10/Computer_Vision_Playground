{
 "cells": [
  {
   "cell_type": "markdown",
   "id": "d3c47c96-cb43-4aa8-ac77-79b030aa12fa",
   "metadata": {},
   "source": [
    "# 1. TRANSLATION \n",
    "\n",
    "Translating an image refers to shifting the image along x and y axis (up,down,left,right)\n",
    "WORKING ->\n",
    "\n",
    "\n",
    "1. Create translate function = def translate(img,x,y)\n",
    "       1. img = img in question\n",
    "       2. x = number of pixels we need to shift in x axis\n",
    "       3. y = number of pixels we need to shift in y axis\n",
    "\n",
    "2. Create a translation matrix (transMat) using numpy, this will take a list with 2 list inside it\n",
    "\n",
    "3. get dimensions(w,h) of image using img.shape function\n",
    "\n",
    "4. return merged matrix using warpAffine which will take 3 paramters - original img, new matrix, dimensions\n",
    "\n",
    "\n",
    "** NOTE ** ->\n",
    "-x = Shifting left\n",
    "+x = Shifting right\n",
    "-y = Shifting up\n",
    "+y = Shifting down "
   ]
  },
  {
   "cell_type": "code",
   "execution_count": 10,
   "id": "611d08ba-fab3-4a2d-b420-3c93354c519e",
   "metadata": {},
   "outputs": [],
   "source": [
    "import cv2 as cv\n",
    "import numpy as np \n",
    "\n",
    "img = cv.imread(r\"C:\\Users\\hp\\Downloads\\sample photos\\lake.jpeg\")\n",
    "resize = cv.resize(img, (400,400))\n",
    "\n",
    "def translate(img,x,y):\n",
    "    transMat = np.float32([[1,0,x],[0,1,y]])\n",
    "    dimensions = (img.shape[0], img.shape[1])\n",
    "    return cv.warpAffine(img, transMat, dimensions)\n",
    "\n",
    "translated = translate(resize,100,100)\n",
    "translated = translate(resize,-100,-50)\n",
    "\n",
    "cv.imshow(\"Translated image\", translated)\n",
    "cv.waitKey(0)\n",
    "cv.destroyAllWindows()"
   ]
  },
  {
   "cell_type": "markdown",
   "id": "e7d30463-9bc7-47a6-9847-44d6850cec7e",
   "metadata": {},
   "source": [
    "# 2. FLIPPING\n",
    "\n",
    "cv.flip( 3 paramters )\n",
    "\n",
    "1. image in question\n",
    "2. flip code (3 types) :\n",
    "        ** 0 = flips image vertically (over x axis)\n",
    "        ** 1 = flips image horizontally (over y axis)\n",
    "        ** -1 = flips image vertically & horizontally"
   ]
  },
  {
   "cell_type": "code",
   "execution_count": 13,
   "id": "a9367e63-8499-4290-97a2-91dd1c822f28",
   "metadata": {},
   "outputs": [],
   "source": [
    "import cv2 as cv\n",
    "\n",
    "img = cv.imread(r\"C:\\Users\\hp\\Downloads\\sample photos\\cat.jpg\")\n",
    "flip = cv.flip(img,0)\n",
    "flip1 = cv.flip(img,1)\n",
    "flip2 = cv.flip(img, -1)\n",
    "\n",
    "cv.imshow(\"Flip vertically\", flip)\n",
    "cv.imshow(\"Flip horizontally\", flip1)\n",
    "cv.imshow(\"Flip both vertically & horizontally\", flip2)\n",
    "\n",
    "cv.waitKey(0)\n",
    "cv.destroyAllWindows()"
   ]
  },
  {
   "cell_type": "markdown",
   "id": "4b6d8f2e-9d05-4fcf-b8c2-0efa7f4a631b",
   "metadata": {},
   "source": [
    "# 2. CROPPING\n",
    "     done via image slicing (like array slicing)\n",
    "\n",
    "cropped = img[startY:endY, startX:endX]\n",
    "here Y is coordinate of row, and X is coordinate of column"
   ]
  },
  {
   "cell_type": "code",
   "execution_count": null,
   "id": "1ecb552d-1f6a-44a4-9d3d-077a455a6ee1",
   "metadata": {},
   "outputs": [],
   "source": [
    "import cv2 as cv\n",
    "\n",
    "img = cv.imread(r\"C:\\Users\\hp\\Downloads\\sample photos\\cat.jpg\")\n",
    "\n",
    "cropped = img[200:400, 300:400]\n",
    "cv.imshow(\"Cropped img\", cropped)\n",
    "cv.waitKey(0)\n",
    "cv.destroyAllWindows()"
   ]
  }
 ],
 "metadata": {
  "kernelspec": {
   "display_name": "Python 3 (ipykernel)",
   "language": "python",
   "name": "python3"
  },
  "language_info": {
   "codemirror_mode": {
    "name": "ipython",
    "version": 3
   },
   "file_extension": ".py",
   "mimetype": "text/x-python",
   "name": "python",
   "nbconvert_exporter": "python",
   "pygments_lexer": "ipython3",
   "version": "3.13.0"
  }
 },
 "nbformat": 4,
 "nbformat_minor": 5
}
