{
 "cells": [
  {
   "cell_type": "markdown",
   "id": "4524f5cd-72c4-4b7c-8387-8481f2be003b",
   "metadata": {},
   "source": [
    "TOPIC - SLIDESHOW OF IMAGES"
   ]
  },
  {
   "cell_type": "markdown",
   "id": "477c3f9a-a969-4467-82f5-e30eb0fcb2c7",
   "metadata": {},
   "source": [
    "APPROACH USED HERE -\n",
    "\n",
    "1. os.listdir(name of directory) to get all the images of the folder\n",
    "2. use \"for\" loop  to get the path of all the images retreived from above step using os.path.join"
   ]
  },
  {
   "cell_type": "code",
   "execution_count": 1,
   "id": "d1cb8f4f-d58f-4977-a051-61364faa3771",
   "metadata": {},
   "outputs": [],
   "source": [
    "import cv2 as cv\n",
    "import os\n",
    "\n",
    "# import os is needed to list image files from a directory using os.listdir() or to build paths with os.path.join()"
   ]
  },
  {
   "cell_type": "code",
   "execution_count": 5,
   "id": "6d507724-f948-465c-90a6-c164f931c684",
   "metadata": {},
   "outputs": [
    {
     "data": {
      "text/plain": [
       "['autumn.jpeg', 'cat.jpg', 'lake.jpeg', 'meeting.jpeg']"
      ]
     },
     "execution_count": 5,
     "metadata": {},
     "output_type": "execute_result"
    }
   ],
   "source": [
    "list_name = os.listdir(r'C:\\Users\\hp\\Downloads\\sample photos')\n",
    "list_name"
   ]
  },
  {
   "cell_type": "code",
   "execution_count": 18,
   "id": "a8c5b667-fb31-4c4c-9e90-e9c3c5db8fe7",
   "metadata": {},
   "outputs": [],
   "source": [
    "list_name = os.listdir(r'C:\\Users\\hp\\Downloads\\sample photos')\n",
    "\n",
    "for name in list_name:\n",
    "    path=r'C:\\Users\\hp\\Downloads\\sample photos'\n",
    "    img_path = os.path.join(path, name)                  # it creates a full, valid file path by combining a folder path (path) with a file name (name) (adds require \\)\n",
    "    img = cv.imread(img_path)\n",
    "    img = cv.resize(img, (400,400))\n",
    "    cv.imshow(\"Demo\", img)\n",
    "    cv.waitKey(2000)                                     # this enables automatic slideshow of images after delay time completed\n",
    "                                                         # IMP = if we want manual slideshow, ie. image changes on clicking button then pass 0 as delay = waitkey(0)\n",
    "\n",
    "cv.destroyAllWindows()  # after slideshow complete"
   ]
  }
 ],
 "metadata": {
  "kernelspec": {
   "display_name": "Python 3 (ipykernel)",
   "language": "python",
   "name": "python3"
  },
  "language_info": {
   "codemirror_mode": {
    "name": "ipython",
    "version": 3
   },
   "file_extension": ".py",
   "mimetype": "text/x-python",
   "name": "python",
   "nbconvert_exporter": "python",
   "pygments_lexer": "ipython3",
   "version": "3.13.0"
  }
 },
 "nbformat": 4,
 "nbformat_minor": 5
}
