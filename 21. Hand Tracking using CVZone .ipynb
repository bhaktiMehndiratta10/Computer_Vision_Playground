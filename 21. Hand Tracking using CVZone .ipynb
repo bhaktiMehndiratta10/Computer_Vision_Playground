{
 "cells": [
  {
   "cell_type": "markdown",
   "id": "690dee5f-48e4-43e5-9a3c-35e4ba225fec",
   "metadata": {},
   "source": [
    "# Hand Tracking using CVZone \n",
    "\n",
    "_COMPARISON ->_ \n",
    "\n",
    "**MediaPipe** gives granular control over hand landmarks, drawing, and FPS, but needs more code.\n",
    "**CVZone** simplifies hand tracking using a prebuilt wrapper, making it faster to implement with less effort.\n",
    "\n",
    "\n",
    "CVZone is a Python library that makes computer vision tasks easier by wrapping complex tools like MediaPipe and OpenCV into simple, ready-to-use modules.\n",
    "\n",
    "Here, using cvzone.HandTrackingModule.HandDetector, which is a wrapper around MediaPipe's hand detection solution. It takes care of:\n",
    "\n",
    "    1. Initializing MediaPipe\n",
    "    2. Converting color formats (BGR ↔ RGB)\n",
    "    3. Running detection\n",
    "    4. Drawing landmarks\n",
    "    5. Structuring output data\n",
    "\n",
    "\n",
    "_MAIN WORKING ->_\n",
    "\n",
    "**detector = HandDetector(maxHands=1)**\n",
    "\n",
    "    1. Here aim is to create a hand detector using CVZone\n",
    "    2. HandDetector is a class from cvzone.HandTrackingModule\n",
    "    3. maxHands=1 means it will track only one hand at a time (helps reduce load and focus)\n",
    "    4. can also use maxHands=2, then it will Detect up to 2 hands at once and Return a list of two dictionaries in hands[]:\n",
    "\n",
    "            hands[0]: Info for one hand (e.g., left)\n",
    "            \n",
    "            hands[1]: Info for the other (e.g., right)"
   ]
  },
  {
   "cell_type": "code",
   "execution_count": null,
   "id": "4c1a6940-c0bf-45fb-82e3-d29461612f3d",
   "metadata": {},
   "outputs": [],
   "source": [
    "import cv2\n",
    "from cvzone.HandTrackingModule import HandDetector\n",
    "\n",
    "cap = cv2.VideoCapture(0)\n",
    "detector = HandDetector(maxHands=1)\n",
    "\n",
    "while True:\n",
    "    success, img = cap.read()\n",
    "    if not success:\n",
    "        print(\"Failed to capture image\")\n",
    "        break\n",
    "    \n",
    "    hands, img = detector.findHands(img)\n",
    "    cv2.imshow(\"Image\", img)\n",
    "    \n",
    "    if cv2.waitKey(1) == ord('q'):\n",
    "        break\n",
    "\n",
    "cap.release()\n",
    "cv2.destroyAllWindows()\n"
   ]
  }
 ],
 "metadata": {
  "kernelspec": {
   "display_name": "Python 3 (ipykernel)",
   "language": "python",
   "name": "python3"
  },
  "language_info": {
   "codemirror_mode": {
    "name": "ipython",
    "version": 3
   },
   "file_extension": ".py",
   "mimetype": "text/x-python",
   "name": "python",
   "nbconvert_exporter": "python",
   "pygments_lexer": "ipython3",
   "version": "3.13.0"
  }
 },
 "nbformat": 4,
 "nbformat_minor": 5
}
