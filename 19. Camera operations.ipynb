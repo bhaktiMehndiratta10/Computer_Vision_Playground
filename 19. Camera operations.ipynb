{
 "cells": [
  {
   "cell_type": "markdown",
   "id": "b4758750-606a-467f-b991-80d1b4cfa665",
   "metadata": {},
   "source": [
    "# Main Tasks and Functions \n",
    "\n",
    "1. cv2.VideoCapture(0)  ->  Opens default webcam\n",
    "2. cv2.VideoCapture(1)  ->  Opens first external camera (USB webcam, etc.)\n",
    "3. cv2.VideoCapture(2)  ->  Opens second external cam (if connected)\n",
    "4. cap.read()           ->  Capture frames (a frame is a single image captured from a video stream or camera at a given moment in time)\n",
    "5. cv2.imwrite()        ->  Saves photo\n",
    "6. cv2.VideoWriter()    ->  Saves video\n",
    "7. cv2.imshow()         ->  Shows image/video\n",
    "8. cam.release()        ->  Frees the webcam so other apps can use it after you're done.\n",
    "\n",
    "**Note** - to access specific media files, specify its path -> cv2.VideoCapture(\"video.mp4\")"
   ]
  },
  {
   "cell_type": "markdown",
   "id": "9d224f80-77c0-4727-b86d-ba79b1502b3f",
   "metadata": {},
   "source": [
    "# 1. Capturing a Photo"
   ]
  },
  {
   "cell_type": "code",
   "execution_count": 6,
   "id": "071a2625-d742-4457-b21a-b62cfd251ade",
   "metadata": {},
   "outputs": [],
   "source": [
    "import cv2\n",
    "\n",
    "cam = cv2.VideoCapture(0)       # Open default webcam\n",
    "ret, frame = cam.read()         # Read one frame\n",
    "cv2.imwrite(\"photo.jpg\", frame) # Save it as a file\n",
    "cv2.imshow('Photo captured', frame)\n",
    "\n",
    "cv2.waitKey(0)\n",
    "cam.release()\n",
    "cv2.destroyAllWindows()\n",
    "\n",
    "\n",
    "# cam.read() returns two values - frame and ret (return) which tells whether the frame was successfully read from the camera."
   ]
  },
  {
   "cell_type": "markdown",
   "id": "c2ee968e-034b-4bec-a088-5b627043e891",
   "metadata": {},
   "source": [
    "# 1. Capturing a Video\n",
    "\n",
    "here we use WHILE LOOP, Which starts an infinite loop to keep capturing frames continuously, this is what makes it a video stream, not just a photo\n",
    "\n",
    "if not ret means , If the camera fails to deliver a frame, break out of the loop."
   ]
  },
  {
   "cell_type": "code",
   "execution_count": null,
   "id": "f3a3d3fb-0ebc-403b-bef8-cb49df547fdb",
   "metadata": {},
   "outputs": [],
   "source": [
    "import cv2\n",
    "\n",
    "cap = cv2.VideoCapture(0)  # 0 for default webcam\n",
    "\n",
    "while True:\n",
    "    ret, frame = cap.read()  # Read a frame from the camera\n",
    "    if not ret:\n",
    "        print(\"Failed to grab frame.\")\n",
    "        break\n",
    "\n",
    "    cv2.imshow(\"Live Video\", frame)  # Show the frame in a window\n",
    "\n",
    "    if cv2.waitKey(1) == ord('q'):  # Press 'q' to quit\n",
    "        break\n",
    "\n",
    "cap.release()  # Release the webcam\n",
    "cv2.destroyAllWindows()  # Close all OpenCV windows\n"
   ]
  }
 ],
 "metadata": {
  "kernelspec": {
   "display_name": "Python 3 (ipykernel)",
   "language": "python",
   "name": "python3"
  },
  "language_info": {
   "codemirror_mode": {
    "name": "ipython",
    "version": 3
   },
   "file_extension": ".py",
   "mimetype": "text/x-python",
   "name": "python",
   "nbconvert_exporter": "python",
   "pygments_lexer": "ipython3",
   "version": "3.13.0"
  }
 },
 "nbformat": 4,
 "nbformat_minor": 5
}
