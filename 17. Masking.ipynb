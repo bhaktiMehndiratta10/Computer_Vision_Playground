{
 "cells": [
  {
   "cell_type": "markdown",
   "id": "5c3b17c4-420c-474f-bf45-bfab42917363",
   "metadata": {},
   "source": [
    "# TOPIC - MASKING\n",
    "\n",
    "Masking is the process of selectively highlighting or hiding parts of an image using a binary filter (mask), where white reveals and black conceals.\n",
    "\n",
    "**Use Cases of Masking ->**\n",
    "\n",
    "* Region of Interest (ROI) extraction\n",
    "* Object segmentation\n",
    "* Background removal\n",
    "* Image blending and compositing\n",
    "* Selective filtering (e.g., blur only part of image)\n",
    "* Color-based object detection\n",
    "* Shape detection and contour analysis\n",
    "* Motion tracking\n",
    "* Image annotation\n",
    "* Medical image analysis\n"
   ]
  },
  {
   "cell_type": "markdown",
   "id": "324a7fd6-6ec2-4b2b-a137-110a1077dc5b",
   "metadata": {},
   "source": [
    "**1. MASKING A BLANK CANVAS OVER AN IMAGE (ONE IMAGE INVOLVED)**\n",
    "\n",
    "PROCESS ->\n",
    "\n",
    "1. input the image in question\n",
    "2. build a blank canvas of the same size as the image using numpy\n",
    "3. build a mask over the blank canvas of any required shape\n",
    "4. use bitwise_and operator"
   ]
  },
  {
   "cell_type": "code",
   "execution_count": null,
   "id": "bf1f7980-9977-434b-93e8-0b417093947e",
   "metadata": {},
   "outputs": [],
   "source": [
    "import cv2 as cv\n",
    "import numpy as np\n",
    "\n",
    "img = cv.imread(r\"C:\\Users\\hp\\Downloads\\sample photos\\tree.jpg\")\n",
    "cv.imshow(\"original image\", img)\n",
    "\n",
    "blank = np.zeros(img.shape[:2], dtype='uint8')\n",
    "cv.imshow(\"blank\", blank)\n",
    "\n",
    "# mask = cv.circle(blank, (center_x, center_y), radius, colour, thickness)\n",
    "mask = cv.circle(blank, (img.shape[1]//2, img.shape[0]//2), 100, 255, -1)\n",
    "cv.imshow(\"mask\", mask)\n",
    "\n",
    "\n",
    "# bitwise_and compares pixel values and only keeps those where the mask is white.\n",
    "# masked_image = cv.bitwise_and(source 1, source 2, mask=mask)\n",
    "\n",
    "# source 1 = First input image (e.g. img)\n",
    "# source 2 = Second input image (usually the same as src1 if masking a single image)\n",
    "\n",
    "masked_image = cv.bitwise_and(img,img,mask=mask)\n",
    "cv.imshow(\"masked image\", masked_image)\n",
    "\n",
    "cv.waitKey(0)"
   ]
  },
  {
   "cell_type": "markdown",
   "id": "3733652f-467a-45cf-aa7e-5ab2aca24d31",
   "metadata": {},
   "source": [
    "**2. MASKING ONE IMAGE OVER ANOTHER (2 IMAGES INVOLVED) ->** \n",
    "\n",
    "PROCESS ->\n",
    "\n",
    "1. input both the image in question\n",
    "2. build 2 blank canvas of the same size as the image using numpy\n",
    "3. build a mask over the blank canvas of any required shape\n",
    "4. using bitwise_and operator apply mask to image 1 (masked area = visible)\n",
    "5. using bitwise_not operator apply mask to image 2 (inverted area = visible)\n",
    "6. using cv.add function combine masked image 1 and masked image 2"
   ]
  },
  {
   "cell_type": "code",
   "execution_count": null,
   "id": "073a88f7-8829-4b86-974e-64326b9f665a",
   "metadata": {},
   "outputs": [],
   "source": [
    "# Masking one image over another (2 images involved)\n",
    "# 2 different source (unlike above where source 1 = source 2)\n",
    "\n",
    "import cv2 as cv\n",
    "import numpy as np\n",
    "\n",
    "\n",
    "img1 = cv.imread(r\"C:\\Users\\hp\\Downloads\\sample photos\\tree.jpg\")\n",
    "img2 = cv.imread(r\"C:\\Users\\hp\\Downloads\\sample photos\\lake.jpeg\")\n",
    "\n",
    "# Resize images to ensure they are the same size\n",
    "img1 = cv.resize(img1, (500, 500))\n",
    "img2 = cv.resize(img2, (500, 500))\n",
    "\n",
    "# Create a circular mask\n",
    "blank = np.zeros(img1.shape[:2], dtype='uint8')\n",
    "mask = cv.circle(blank, (250, 250), 150, 255, -1)\n",
    "\n",
    "# Apply mask to img1 (masked area = visible)\n",
    "masked_part = cv.bitwise_and(img1, img1, mask=mask)\n",
    "\n",
    "# Invert mask to apply to img2 (inverted area = visible)\n",
    "mask_inv = cv.bitwise_not(mask)\n",
    "background_part = cv.bitwise_and(img2, img2, mask=mask_inv)\n",
    "\n",
    "# Combine both masked parts\n",
    "combined = cv.add(masked_part, background_part)\n",
    "\n",
    "# Show results\n",
    "cv.imshow(\"Image 1\", img1)\n",
    "cv.imshow(\"Image 2\", img2)\n",
    "cv.imshow(\"Mask\", mask)\n",
    "cv.imshow(\"Masked part\", masked_part)\n",
    "cv.imshow(\"Background part\", background_part)\n",
    "cv.imshow(\"Combined\", combined)\n",
    "\n",
    "cv.waitKey(0)\n",
    "cv.destroyAllWindows()\n"
   ]
  }
 ],
 "metadata": {
  "kernelspec": {
   "display_name": "Python 3 (ipykernel)",
   "language": "python",
   "name": "python3"
  },
  "language_info": {
   "codemirror_mode": {
    "name": "ipython",
    "version": 3
   },
   "file_extension": ".py",
   "mimetype": "text/x-python",
   "name": "python",
   "nbconvert_exporter": "python",
   "pygments_lexer": "ipython3",
   "version": "3.13.0"
  }
 },
 "nbformat": 4,
 "nbformat_minor": 5
}
