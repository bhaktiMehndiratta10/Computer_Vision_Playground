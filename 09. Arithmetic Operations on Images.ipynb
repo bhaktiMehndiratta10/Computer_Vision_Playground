{
 "cells": [
  {
   "cell_type": "markdown",
   "id": "ada39336-b6fe-4d44-b4ac-96e00dda1788",
   "metadata": {},
   "source": [
    "1. ADDITION\n",
    "\n",
    "merging/overlapping multiple images to make a new image\n",
    "FUCNTION USED = cv2.addWeighted()\n",
    "\n",
    "5 PARAMETERS =\n",
    "\n",
    "        1. first image\n",
    "        2. alpha - intensity of first image (where 100% is given as 1)\n",
    "        3. second image\n",
    "        4. beta - intensity of second image\n",
    "        5. gamma - final intensity of image\n",
    "        \n",
    "\n",
    "2. SUBTRACTION\n",
    "\n",
    "removes the not-common colours in the image\n",
    "FUNCTION USED = cv2.subtract()\n",
    "\n",
    "Takes only 2 parameters , that is the required images.\n",
    "order of images passed to the function affects the result."
   ]
  },
  {
   "cell_type": "code",
   "execution_count": 12,
   "id": "6aa42e26-30dc-49a4-a87b-404ba7498670",
   "metadata": {},
   "outputs": [],
   "source": [
    "# ADDITION\n",
    "\n",
    "\n",
    "import cv2\n",
    "img1=cv2.imread(r\"C:\\Users\\hp\\Downloads\\sample photos\\cat.jpg\")\n",
    "img2=cv2.imread(r\"C:\\Users\\hp\\Downloads\\sample photos\\lake.jpeg\")\n",
    "\n",
    "img1=cv2.resize(img1, (500,500))\n",
    "img2=cv2.resize(img2, (500,500))\n",
    "\n",
    "new_img=cv2.addWeighted(img1,1.5,img2,0.9,1)\n",
    "cv2.imshow(\"Addition Demo\", new_img)\n",
    "cv2.waitKey(0)\n",
    "cv2.destroyAllWindows()"
   ]
  },
  {
   "cell_type": "code",
   "execution_count": 15,
   "id": "7c5b3509-57f9-4cc8-a181-95258cd47cfc",
   "metadata": {},
   "outputs": [],
   "source": [
    "# SUBTRACTION\n",
    "\n",
    "\n",
    "import cv2\n",
    "img1=cv2.imread(r\"C:\\Users\\hp\\Downloads\\sample photos\\cat.jpg\")\n",
    "img2=cv2.imread(r\"C:\\Users\\hp\\Downloads\\sample photos\\lake.jpeg\")\n",
    "\n",
    "img1=cv2.resize(img1, (500,500))\n",
    "img2=cv2.resize(img2, (500,500))\n",
    "\n",
    "new_img1=cv2.subtract(img1,img2)\n",
    "new_img2=cv2.subtract(img2,img1)\n",
    "\n",
    "cv2.imshow(\"Subtarction Demo - 1\", new_img1)\n",
    "cv2.imshow(\"Subtarction Demo - 2\", new_img2)\n",
    "\n",
    "cv2.waitKey(0)\n",
    "cv2.destroyAllWindows()"
   ]
  }
 ],
 "metadata": {
  "kernelspec": {
   "display_name": "Python 3 (ipykernel)",
   "language": "python",
   "name": "python3"
  },
  "language_info": {
   "codemirror_mode": {
    "name": "ipython",
    "version": 3
   },
   "file_extension": ".py",
   "mimetype": "text/x-python",
   "name": "python",
   "nbconvert_exporter": "python",
   "pygments_lexer": "ipython3",
   "version": "3.13.0"
  }
 },
 "nbformat": 4,
 "nbformat_minor": 5
}
