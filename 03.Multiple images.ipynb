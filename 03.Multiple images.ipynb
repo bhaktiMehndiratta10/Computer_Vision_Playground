{
 "cells": [
  {
   "cell_type": "markdown",
   "id": "aa18e441-3f77-4233-8fb1-a6305d1f263f",
   "metadata": {},
   "source": [
    "TOPIC - MULTIPLE IMAGES"
   ]
  },
  {
   "cell_type": "markdown",
   "id": "2cb52110-96d2-4a86-b199-def46e60f736",
   "metadata": {},
   "source": [
    "// A pixel (short for \"picture element\") is the smallest unit of a digital image or display. It is a tiny dot of color that, when combined with millions of others, forms an image\n",
    "\n",
    "Pixel representation models =\n",
    "\n",
    "\n",
    "1. RGB : (Red, Green, Blue): Each pixel is represented by three values corresponding to the intensity of red, green, and blue. By combining different intensities of these colors, any color can be created. This model is commonly used for colored images and displays.\n",
    "\n",
    "2. Grayscale: In this model, each pixel is represented by a single value, indicating the intensity of light (from black to white). It has no color channels (just a single intensity value), and typically, this value ranges from 0 (black) to 255 (white), with shades of gray in between."
   ]
  },
  {
   "cell_type": "markdown",
   "id": "bf757c4e-eee8-4202-96e9-2d8a9ef020f5",
   "metadata": {},
   "source": [
    "Functions used here -\n",
    "\n",
    "1. cv.hstack = for arranging multiple images HORIZONTALLY\n",
    "2. cv.hstack = for arranging multiple images VERTICALLY\n",
    "\n",
    "\n",
    "resize images accoridngly to fit multiple images"
   ]
  },
  {
   "cell_type": "code",
   "execution_count": 2,
   "id": "7b16d537-190e-44ad-ad6c-4a34d65713f5",
   "metadata": {},
   "outputs": [],
   "source": [
    "import cv2 as cv\n",
    "import numpy as np"
   ]
  },
  {
   "cell_type": "code",
   "execution_count": 3,
   "id": "634ba2c3-8a4e-40cf-81d4-79f5df36311c",
   "metadata": {},
   "outputs": [],
   "source": [
    "# (1) multiple images arranged HORIZONTALLY\n",
    "\n",
    "img = cv.imread(r'C:\\Users\\hp\\Downloads\\sample photos\\cat.jpg')      \n",
    "\n",
    "h = np.hstack((img,img))  # img passed twice, so 2 images will be displayed\n",
    "\n",
    "cv.imshow(\"Demo\", h)\n",
    "cv.waitKey(0) \n",
    "cv.destroyAllWindows()"
   ]
  },
  {
   "cell_type": "code",
   "execution_count": 4,
   "id": "9a352b08-181e-4246-a45b-75170b182d4b",
   "metadata": {},
   "outputs": [],
   "source": [
    "# (2) multiple images arranged VERTICALLY \n",
    "\n",
    "img = cv.imread(r'C:\\Users\\hp\\Downloads\\sample photos\\cat.jpg')      \n",
    "\n",
    "v = np.vstack((img,img)) \n",
    "\n",
    "cv.imshow(\"Demo\", v)\n",
    "cv.waitKey(0) \n",
    "cv.destroyAllWindows()"
   ]
  },
  {
   "cell_type": "code",
   "execution_count": 5,
   "id": "e6474512-0e28-458c-9866-a91867adab71",
   "metadata": {},
   "outputs": [],
   "source": [
    "# creating a square/rectangle of images\n",
    "# it need images arranged both vertically and horizontally \n",
    "# approach - getting horizontal images, then arranging these horizontal images vertically\n",
    "\n",
    "\n",
    "img = cv.imread(r'C:\\Users\\hp\\Downloads\\sample photos\\cat.jpg')      \n",
    " \n",
    "h = np.hstack((img,img)) \n",
    "v = np.vstack((h,h))\n",
    "\n",
    "cv.imshow(\"Demo\", v)\n",
    "cv.waitKey(0) \n",
    "cv.destroyAllWindows()"
   ]
  },
  {
   "cell_type": "code",
   "execution_count": 14,
   "id": "888841ac-d1fd-41b3-b37e-a3e9f7ae855d",
   "metadata": {},
   "outputs": [
    {
     "data": {
      "text/plain": [
       "array([[ 1,  2,  1,  2,  1,  2,  1,  2],\n",
       "       [10, 20, 10, 20, 10, 20, 10, 20]])"
      ]
     },
     "execution_count": 14,
     "metadata": {},
     "output_type": "execute_result"
    }
   ],
   "source": [
    "# eg of hstack joining arrays\n",
    "# double curved brackets\n",
    "\n",
    "v = np.array([[1,2,1,2], [10,20,10,20]])\n",
    "np.hstack((v,v))"
   ]
  }
 ],
 "metadata": {
  "kernelspec": {
   "display_name": "Python 3 (ipykernel)",
   "language": "python",
   "name": "python3"
  },
  "language_info": {
   "codemirror_mode": {
    "name": "ipython",
    "version": 3
   },
   "file_extension": ".py",
   "mimetype": "text/x-python",
   "name": "python",
   "nbconvert_exporter": "python",
   "pygments_lexer": "ipython3",
   "version": "3.13.0"
  }
 },
 "nbformat": 4,
 "nbformat_minor": 5
}
